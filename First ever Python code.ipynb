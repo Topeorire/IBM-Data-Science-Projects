{
    "cells": [
        {
            "metadata": {},
            "cell_type": "markdown",
            "source": "<h1> My Jupyter Notebook on IBM Watson Studio <h1>"
        },
        {
            "metadata": {},
            "cell_type": "markdown",
            "source": "**NAME: Tope Orire**\n     \n Occupation: Chemist"
        },
        {
            "metadata": {},
            "cell_type": "markdown",
            "source": "*I am a formulations chemist and I am interested in data science because I would like to collect and analyze data while creating new drugs* "
        },
        {
            "metadata": {},
            "cell_type": "markdown",
            "source": "<h3> This is literally my first coding experience. I am just going to make the code as simple as possible 1 + 1, sorry, lol. <h3> "
        },
        {
            "metadata": {},
            "cell_type": "code",
            "source": "1 + 1",
            "execution_count": 4,
            "outputs": [
                {
                    "output_type": "execute_result",
                    "execution_count": 4,
                    "data": {
                        "text/plain": "2"
                    },
                    "metadata": {}
                }
            ]
        },
        {
            "metadata": {},
            "cell_type": "markdown",
            "source": "This is a strikethrough ~strikethis.~\n\n- - -\n\nThis is the horizontal rule line\n\n- - - \n\nThis is a numbered list\n1. One\n2. Two\n3. Three"
        },
        {
            "metadata": {},
            "cell_type": "code",
            "source": "",
            "execution_count": null,
            "outputs": []
        }
    ],
    "metadata": {
        "kernelspec": {
            "name": "python3",
            "display_name": "Python 3.7",
            "language": "python"
        },
        "language_info": {
            "name": "python",
            "version": "3.7.10",
            "mimetype": "text/x-python",
            "codemirror_mode": {
                "name": "ipython",
                "version": 3
            },
            "pygments_lexer": "ipython3",
            "nbconvert_exporter": "python",
            "file_extension": ".py"
        }
    },
    "nbformat": 4,
    "nbformat_minor": 1
}